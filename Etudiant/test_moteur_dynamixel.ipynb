{
 "cells": [
  {
   "cell_type": "markdown",
   "id": "5197b374",
   "metadata": {},
   "source": [
    "# Prise en main d'un moteurs dynamixel "
   ]
  },
  {
   "cell_type": "markdown",
   "id": "e7a256b6",
   "metadata": {},
   "source": [
    "Pour rappel,ce notebook est un guide pratique sur l'utilisation des moteurs dynamixel et de la bibliothèque python, cette partie du TP ne sera pas pris en compte lors de la notation, elle est la pour vous permettre de comprendre comment fonctionne les moteurs et comment les manipuler. C'est comme cela que les moteurs sont initialisé dans la fonction `__init__`  de la classe Motor. Lors de cette séance vous allez devoir utilisez les fonctions suivantes pour créer des fonctions aidant à la mise à jour des paramètres articulaires en temps réel et établire des fonctions de conversions trviales. "
   ]
  },
  {
   "cell_type": "markdown",
   "id": "0464dd14",
   "metadata": {},
   "source": [
    "Téléchargement de la bibliothèque "
   ]
  },
  {
   "cell_type": "code",
   "execution_count": null,
   "id": "196831d7",
   "metadata": {},
   "outputs": [],
   "source": [
    "%%bash\n",
    "pip install dynamixel_controller"
   ]
  },
  {
   "cell_type": "markdown",
   "id": "05f1ca69",
   "metadata": {},
   "source": [
    "Importation des bibliothèque. Pour plus d'information, cliquez [ici](https://pypi.org/project/dynamixel-controller/), cela vous redirigera vers la documentation de la bibliothèqe python."
   ]
  },
  {
   "cell_type": "code",
   "execution_count": 13,
   "id": "c65c5b9f",
   "metadata": {},
   "outputs": [],
   "source": [
    "from dynio import *  \n",
    "import matplotlib.pyplot as plt"
   ]
  },
  {
   "cell_type": "markdown",
   "id": "1e98153e",
   "metadata": {},
   "source": [
    "Initialisation des données"
   ]
  },
  {
   "cell_type": "code",
   "execution_count": 17,
   "id": "78505ef4",
   "metadata": {},
   "outputs": [],
   "source": [
    "portname = '/dev/tty.usbserial-FT6S4E5D'\n",
    "dxl_io = dxl.DynamixelIO(portname, baud_rate=1000000) #baud_rate --> vitesse de communication\n",
    "ID=1\n",
    "motor1=dxl_io.new_ax12(ID)"
   ]
  },
  {
   "cell_type": "markdown",
   "id": "d790eb82",
   "metadata": {},
   "source": [
    "Fonctions élémentaires"
   ]
  },
  {
   "cell_type": "code",
   "execution_count": null,
   "id": "41505ba0",
   "metadata": {},
   "outputs": [],
   "source": [
    "motor1.set_velocity(200) # vitesse \n",
    "print(f\"Positions du moteur {ID}: {motor1.get_position()}\")\n",
    "motor1.set_position(100) # position\n",
    "motor1.torque_disable() # couple"
   ]
  }
 ],
 "metadata": {
  "kernelspec": {
   "display_name": "Python 3",
   "language": "python",
   "name": "python3"
  },
  "language_info": {
   "codemirror_mode": {
    "name": "ipython",
    "version": 3
   },
   "file_extension": ".py",
   "mimetype": "text/x-python",
   "name": "python",
   "nbconvert_exporter": "python",
   "pygments_lexer": "ipython3",
   "version": "3.13.2"
  }
 },
 "nbformat": 4,
 "nbformat_minor": 5
}
