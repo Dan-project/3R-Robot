{
 "cells": [
  {
   "cell_type": "markdown",
   "id": "9692bfca",
   "metadata": {},
   "source": [
    "# Simulation d'un robot nR plan "
   ]
  },
  {
   "cell_type": "markdown",
   "id": "aceef358",
   "metadata": {},
   "source": [
    "\n",
    "### Importation des bibliothèques nécessaires \n",
    "\n",
    "<div align=\"left\">\n",
    "\n",
    "```\n",
    "\n",
    "pip upragde && update \n",
    "pip install dynamixel-controller \n",
    "pip install pygame \n",
    "pip install numpy \n",
    "```\n",
    "</div> \n"
   ]
  },
  {
   "cell_type": "markdown",
   "id": "2d1c5a2d",
   "metadata": {},
   "source": [
    "### Importation des classes Univers, Robot et Moto via le fichier univers.py\n",
    "\n"
   ]
  },
  {
   "cell_type": "code",
   "execution_count": null,
   "id": "5610d0c8",
   "metadata": {},
   "outputs": [],
   "source": [
    "from univers import *"
   ]
  },
  {
   "cell_type": "markdown",
   "id": "a48aac4a",
   "metadata": {},
   "source": [
    "- **Robot** : permet de créer un robot à *n* articulations rotoïdes dans un plan 2D.  \n",
    "  La première articulation est fixée au bâti à l'origine, et un effecteur est présent en bout de bras.\n",
    "\n",
    "- **Motor** : permet d'initialiser les moteurs Dynamixel sur le robot et d'utiliser des fonctions propres à l'utilisation des moteurs à condition que le robot soit bien connecté via USB.\n",
    "\n",
    "- **Univers** : cette classe permet de gérer les événements Pygame utiles à la simulation du modèle."
   ]
  },
  {
   "cell_type": "markdown",
   "id": "cbf6f643",
   "metadata": {},
   "source": [
    "Création d'un robot avec n liaisons. Intialisation de q et l (distance entre liaisons)"
   ]
  },
  {
   "cell_type": "code",
   "execution_count": 5,
   "id": "aec600c4",
   "metadata": {},
   "outputs": [],
   "source": [
    " # Initialisation\n",
    "q_i=[130]*3 # angles initiaux des moteurs (théoriquement entre 0° et 300°)\n",
    "l_i=[0.06]*3\n",
    "# Création robot:\n",
    "robot= Robot(q_i,l_i)"
   ]
  },
  {
   "cell_type": "markdown",
   "id": "2b1af96c",
   "metadata": {},
   "source": [
    "Indiquez si oui ou non le roobt est connecté, si il n'est pas connecté seul la simulation se lançera. Le portName est le nom du port USB où le robot est connecté. Suivez les indications suivantes pour le connaitre suivant votre machine.\n",
    "\n",
    "- **Linux** : `ls /dev/ttyUSB*`  \n",
    "\n",
    "- **Mac** : `ls /dev/tty.usbserial*` \n",
    "\n",
    "- **Windows** : Allez dans votre gestionnaire de périphériques puis dans la section Port (COM et LPT), vous verrez USB Serial Port (COM*). Le numéro COM* sera le nom du port à connaitre."
   ]
  },
  {
   "cell_type": "code",
   "execution_count": 6,
   "id": "a3f9ee57",
   "metadata": {},
   "outputs": [],
   "source": [
    "portName='/dev/tty.usbserial-FT6S4E5D'\n",
    "connected=True"
   ]
  },
  {
   "cell_type": "markdown",
   "id": "94e73fd4",
   "metadata": {},
   "source": [
    "Création d'une instance de la classe Univers"
   ]
  },
  {
   "cell_type": "code",
   "execution_count": 7,
   "id": "6bfe75bc",
   "metadata": {},
   "outputs": [],
   "source": [
    "univers = Univers(robot=robot,connected=connected,portName=portName) # création d'un univers (instance de Univers)"
   ]
  },
  {
   "cell_type": "markdown",
   "id": "1baf33d8",
   "metadata": {},
   "source": [
    "Pour tester le MGD, vous pouvez indiquez au robot une position angulaire en degrès à atteindre. Pour le MGI (marche uniquement pour un robot 3R plan), indiquez une position x,y en mètre à atteindre."
   ]
  },
  {
   "cell_type": "code",
   "execution_count": 8,
   "id": "386f1520",
   "metadata": {},
   "outputs": [],
   "source": [
    "# Test des target pour MGD MGI\n",
    "q_target = [50]*3 # angle cible en degrés\n",
    "pos_target = [0.1,-0.1] # postion x y cible en mètre"
   ]
  },
  {
   "cell_type": "markdown",
   "id": "2eace41e",
   "metadata": {},
   "source": [
    "Run la simulation"
   ]
  },
  {
   "cell_type": "code",
   "execution_count": null,
   "id": "786c33ea",
   "metadata": {},
   "outputs": [],
   "source": [
    "# Run simulation, mode = qTarget, posTarget, jointControl, cartesianControl, manipulate (real robot)\n",
    "univers.simulation(mode=\"jointControl\",q_target=q_target,pos_target=pos_target)"
   ]
  },
  {
   "cell_type": "markdown",
   "id": "10b598c1",
   "metadata": {},
   "source": [
    "### Ressources\n",
    "\n",
    "- Documentation Pygame : https://www.pygame.org/docs/  \n",
    "- Dynio pour Dynamixel : https://github.com/kissgyorgy/dynio  \n",
    "- Flash moteur : https://emanual.robotis.com/docs/en/software/dynamixel/dynamixel_wizard2/\n",
    "- Théorie robotique plan 3R : consulter les cours de cinématique des robots sériels.\n"
   ]
  }
 ],
 "metadata": {
  "kernelspec": {
   "display_name": "Python 3",
   "language": "python",
   "name": "python3"
  },
  "language_info": {
   "codemirror_mode": {
    "name": "ipython",
    "version": 3
   },
   "file_extension": ".py",
   "mimetype": "text/x-python",
   "name": "python",
   "nbconvert_exporter": "python",
   "pygments_lexer": "ipython3",
   "version": "3.13.2"
  }
 },
 "nbformat": 4,
 "nbformat_minor": 5
}
